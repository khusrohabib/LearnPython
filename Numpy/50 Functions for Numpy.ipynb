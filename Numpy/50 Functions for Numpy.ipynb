{
 "cells": [
  {
   "cell_type": "code",
   "execution_count": 1,
   "metadata": {},
   "outputs": [],
   "source": [
    "import numpy as np"
   ]
  },
  {
   "cell_type": "code",
   "execution_count": 17,
   "metadata": {},
   "outputs": [
    {
     "name": "stdout",
     "output_type": "stream",
     "text": [
      "[0 1 2 3 4 5]\n"
     ]
    }
   ],
   "source": [
    "#1. Create a numpy array with a range of 6 elements\n",
    "a = np.arange(6)\n",
    "print(a)"
   ]
  },
  {
   "cell_type": "code",
   "execution_count": 22,
   "metadata": {},
   "outputs": [
    {
     "name": "stdout",
     "output_type": "stream",
     "text": [
      "[['Name1' 'Name2' 'Name3']\n",
      " ['Id1' 'Id2' 'Id3']]\n"
     ]
    }
   ],
   "source": [
    "#2. Create a numpy array using list with 2 axes\n",
    "b = np.array([[\"Name1\",\"Name2\",\"Name3\"],[\"Id1\",\"Id2\",\"Id3\"]])\n",
    "print(b)"
   ]
  },
  {
   "cell_type": "code",
   "execution_count": 23,
   "metadata": {},
   "outputs": [
    {
     "data": {
      "text/plain": [
       "(2, 3)"
      ]
     },
     "execution_count": 23,
     "metadata": {},
     "output_type": "execute_result"
    }
   ],
   "source": [
    "#3. Shape of numpy array b\n",
    "b.shape"
   ]
  },
  {
   "cell_type": "code",
   "execution_count": 24,
   "metadata": {},
   "outputs": [
    {
     "name": "stdout",
     "output_type": "stream",
     "text": [
      "['Name1' 'Name2' 'Name3']\n"
     ]
    }
   ],
   "source": [
    "#4. Access element of the array\n",
    "print(b[0])"
   ]
  },
  {
   "cell_type": "code",
   "execution_count": 21,
   "metadata": {},
   "outputs": [
    {
     "name": "stdout",
     "output_type": "stream",
     "text": [
      "Name1\n"
     ]
    }
   ],
   "source": [
    "#5. Access the element of a 2D array\n",
    "print(b[0][0])"
   ]
  },
  {
   "cell_type": "code",
   "execution_count": 25,
   "metadata": {},
   "outputs": [
    {
     "name": "stdout",
     "output_type": "stream",
     "text": [
      "[0. 0. 0. 0. 0. 0. 0. 0. 0. 0.]\n"
     ]
    }
   ],
   "source": [
    "#.6 Create an array with zeros\n",
    "c = np.zeros(10)\n",
    "print(c)"
   ]
  },
  {
   "cell_type": "code",
   "execution_count": 27,
   "metadata": {},
   "outputs": [
    {
     "name": "stdout",
     "output_type": "stream",
     "text": [
      "[1. 1. 1. 1. 1. 1. 1. 1. 1. 1.]\n"
     ]
    }
   ],
   "source": [
    "#7. Create a numpy array with ones\n",
    "d = np.ones(10)\n",
    "print(d)"
   ]
  },
  {
   "cell_type": "code",
   "execution_count": 30,
   "metadata": {},
   "outputs": [
    {
     "name": "stdout",
     "output_type": "stream",
     "text": [
      "[ 5 10 15 20 25 30 35 40 45 50]\n"
     ]
    }
   ],
   "source": [
    "#8. Create an array of definining the start and end range along with steps\n",
    "e = np.arange(5,51,5)\n",
    "print(e)"
   ]
  },
  {
   "cell_type": "code",
   "execution_count": 37,
   "metadata": {},
   "outputs": [
    {
     "name": "stdout",
     "output_type": "stream",
     "text": [
      "[ 0.          1.11111111  2.22222222  3.33333333  4.44444444  5.55555556\n",
      "  6.66666667  7.77777778  8.88888889 10.        ]\n"
     ]
    }
   ],
   "source": [
    "#9. Create a linearly spaced array, the bigger the number specified in num=? the bigger the array will spread into\n",
    "f = np.linspace(0,10,num=10)\n",
    "print(f)"
   ]
  },
  {
   "cell_type": "code",
   "execution_count": 42,
   "metadata": {},
   "outputs": [
    {
     "name": "stdout",
     "output_type": "stream",
     "text": [
      "[ 0  1  7 10 51]\n"
     ]
    }
   ],
   "source": [
    "#10. Sorting an array of numbers\n",
    "g = np.array([10,51,1,0,7])\n",
    "g = np.sort(g)\n",
    "print(g)"
   ]
  },
  {
   "cell_type": "code",
   "execution_count": 43,
   "metadata": {},
   "outputs": [
    {
     "name": "stdout",
     "output_type": "stream",
     "text": [
      "['a' 'b' 'z']\n"
     ]
    }
   ],
   "source": [
    "#11. Sorting an array of alphabets\n",
    "g = np.array([\"b\",\"z\",\"a\"])\n",
    "g = np.sort(g)\n",
    "print(g)"
   ]
  },
  {
   "cell_type": "code",
   "execution_count": 57,
   "metadata": {},
   "outputs": [
    {
     "name": "stdout",
     "output_type": "stream",
     "text": [
      "['a' 'b' 'c' 'd' 'e' 'f' 'p' 'z']\n"
     ]
    }
   ],
   "source": [
    "#12. Concatenate two numpy arrays and sort them\n",
    "arr1 = np.array([\"a\",\"b\",\"c\",\"d\"])\n",
    "arr2 = np.array([\"z\",\"e\",\"f\",\"p\"])\n",
    "arr3 = np.concatenate((arr1,arr2),axis=0)\n",
    "arr3 = np.sort(arr3)\n",
    "print(arr3)"
   ]
  },
  {
   "cell_type": "code",
   "execution_count": 64,
   "metadata": {},
   "outputs": [
    {
     "name": "stdout",
     "output_type": "stream",
     "text": [
      "Dimensions or axes 2\n"
     ]
    }
   ],
   "source": [
    "#13. Dimension of an array\n",
    "np_dim = np.array([[1,2,3],[4,5,6],[7,8,9],[10,11,12]])\n",
    "print(\"Dimensions or axes\", np_dim.ndim)"
   ]
  },
  {
   "cell_type": "code",
   "execution_count": 66,
   "metadata": {},
   "outputs": [
    {
     "name": "stdout",
     "output_type": "stream",
     "text": [
      "Size of the array is 12\n"
     ]
    }
   ],
   "source": [
    "#14. Size of the array is the elements in array\n",
    "print(\"Size of the array is\", np_dim.size)"
   ]
  },
  {
   "cell_type": "code",
   "execution_count": 67,
   "metadata": {},
   "outputs": [
    {
     "name": "stdout",
     "output_type": "stream",
     "text": [
      "Shape of the array is (4, 3)\n"
     ]
    }
   ],
   "source": [
    "#15. Shape of the array\n",
    "print(\"Shape of the array is\", np_dim.shape)"
   ]
  },
  {
   "cell_type": "code",
   "execution_count": 71,
   "metadata": {},
   "outputs": [
    {
     "name": "stdout",
     "output_type": "stream",
     "text": [
      "Before Reshape\n",
      "[[ 1  2  3]\n",
      " [ 4  5  6]\n",
      " [ 7  8  9]\n",
      " [10 11 12]]\n",
      "After Reshape\n",
      "[[ 1  2  3  4]\n",
      " [ 5  6  7  8]\n",
      " [ 9 10 11 12]]\n"
     ]
    }
   ],
   "source": [
    "#16. Reshape the array into 3,4\n",
    "print(\"Before Reshape\")\n",
    "print(np_dim)\n",
    "np_dim = np_dim.reshape(3,4)\n",
    "print(\"After Reshape\")\n",
    "print(np_dim)"
   ]
  },
  {
   "cell_type": "code",
   "execution_count": 76,
   "metadata": {},
   "outputs": [
    {
     "name": "stdout",
     "output_type": "stream",
     "text": [
      "Before Reshape\n",
      "[[ 1  2  3  4]\n",
      " [ 5  6  7  8]\n",
      " [ 9 10 11 12]]\n",
      "After Reshape\n",
      "[[ 1  2  3  4  5  6]\n",
      " [ 7  8  9 10 11 12]]\n"
     ]
    }
   ],
   "source": [
    "#17. Another way to reshape\n",
    "print(\"Before Reshape\")\n",
    "print(np_dim)\n",
    "print(\"After Reshape\")\n",
    "print(np.reshape(np_dim, newshape=(2,6),order='C'))"
   ]
  },
  {
   "cell_type": "code",
   "execution_count": 96,
   "metadata": {},
   "outputs": [
    {
     "name": "stdout",
     "output_type": "stream",
     "text": [
      "[1 2 3 4 5 6] (6,)\n",
      "First element: 1\n",
      "Adding an axis\n",
      "[[1 2 3 4 5 6]] (1, 6)\n",
      "First element: 1\n",
      "Adding an another axis\n",
      "[[[1 2 3 4 5 6]]] (1, 1, 6)\n",
      "First element: 1\n"
     ]
    }
   ],
   "source": [
    "#18. Add new axis to an array\n",
    "arr1 = np.array([1,2,3,4,5,6])\n",
    "print(arr1, arr1.shape)\n",
    "\n",
    "print(\"First element:\", arr1[0])\n",
    "\n",
    "print(\"Adding an axis\")\n",
    "arr1 = arr1[np.newaxis]\n",
    "print(arr1, arr1.shape)\n",
    "\n",
    "print(\"First element:\", arr1[0][0])\n",
    "\n",
    "print(\"Adding an another axis\")\n",
    "arr1 = arr1[np.newaxis]\n",
    "print(arr1, arr1.shape)\n",
    "\n",
    "print(\"First element:\", arr1[0][0][0])"
   ]
  },
  {
   "cell_type": "code",
   "execution_count": 100,
   "metadata": {},
   "outputs": [
    {
     "name": "stdout",
     "output_type": "stream",
     "text": [
      "[1 2 3 4]\n"
     ]
    }
   ],
   "source": [
    "#19. Slicing an array from and to range\n",
    "arr1 = np.array([1,2,3,4,5,6,7,8,9,10])\n",
    "print(arr1[0:4])"
   ]
  },
  {
   "cell_type": "code",
   "execution_count": 101,
   "metadata": {},
   "outputs": [
    {
     "name": "stdout",
     "output_type": "stream",
     "text": [
      "[ 5  6  7  8  9 10]\n"
     ]
    }
   ],
   "source": [
    "#20. Slicing an array from to end\n",
    "print(arr1[4:])"
   ]
  },
  {
   "cell_type": "code",
   "execution_count": 128,
   "metadata": {},
   "outputs": [
    {
     "data": {
      "text/plain": [
       "array([15, 25, 15, 45, 12, 13, 14])"
      ]
     },
     "execution_count": 128,
     "metadata": {},
     "output_type": "execute_result"
    }
   ],
   "source": [
    "#21. Slicing more than ranges where value is greater than 5\n",
    "arr1 =  np.array([[1,2,3,4],[15,25,15,45],[10,12,13,14]])\n",
    "arr1[arr1 > 10]"
   ]
  },
  {
   "cell_type": "code",
   "execution_count": 125,
   "metadata": {},
   "outputs": [
    {
     "name": "stdout",
     "output_type": "stream",
     "text": [
      "[[False False False False]\n",
      " [ True  True  True  True]\n",
      " [ True  True  True  True]]\n"
     ]
    }
   ],
   "source": [
    "#22. Show the reuslt of a condition on the array\n",
    "condition = (arr1 > 5) | (arr1 == 5)\n",
    "print(condition)"
   ]
  },
  {
   "cell_type": "code",
   "execution_count": 130,
   "metadata": {},
   "outputs": [
    {
     "name": "stdout",
     "output_type": "stream",
     "text": [
      "[ 1  2  3  4 15 25 15 45 10 12 13 14]\n"
     ]
    }
   ],
   "source": [
    "#23. Slicing based on calculation\n",
    "print(arr1[arr1*2 > 1])"
   ]
  },
  {
   "cell_type": "code",
   "execution_count": 149,
   "metadata": {},
   "outputs": [
    {
     "data": {
      "text/plain": [
       "(array([2, 2, 2], dtype=int64), array([0, 1, 2], dtype=int64))"
      ]
     },
     "execution_count": 149,
     "metadata": {},
     "output_type": "execute_result"
    }
   ],
   "source": [
    "#24. Get indices of elements based on condition\n",
    "a = np.array([[1,2,3],[4,5,6],[7,8,9]])\n",
    "result = np.nonzero(a > 6)\n",
    "result"
   ]
  },
  {
   "cell_type": "code",
   "execution_count": 150,
   "metadata": {},
   "outputs": [
    {
     "name": "stdout",
     "output_type": "stream",
     "text": [
      "[2. 3. 4. 5.]\n"
     ]
    }
   ],
   "source": [
    "#25. Add an array with ones array\n",
    "a = np.array([1,2,3,4])\n",
    "b = np.ones(4)\n",
    "print(a+b)"
   ]
  },
  {
   "cell_type": "code",
   "execution_count": 156,
   "metadata": {},
   "outputs": [
    {
     "name": "stdout",
     "output_type": "stream",
     "text": [
      "[[ 6  8 10 12]\n",
      " [10  4  5  8]]\n"
     ]
    }
   ],
   "source": [
    "#26. Add two arrays\n",
    "a = np.array([[1,2,3,4],[1,2,3,4]])\n",
    "b = np.array([[5,6,7,8],[9,2,2,4]])\n",
    "print(a+b)"
   ]
  },
  {
   "cell_type": "code",
   "execution_count": 160,
   "metadata": {},
   "outputs": [
    {
     "name": "stdout",
     "output_type": "stream",
     "text": [
      "45\n",
      "45\n"
     ]
    }
   ],
   "source": [
    "#27. Sum elements of an array\n",
    "a = np.array([1,2,3,4,5,6,7,8,9])\n",
    "print(a.sum())\n",
    "#or\n",
    "print(np.sum(a))"
   ]
  },
  {
   "cell_type": "code",
   "execution_count": 170,
   "metadata": {},
   "outputs": [
    {
     "name": "stdout",
     "output_type": "stream",
     "text": [
      "[4 4]\n"
     ]
    }
   ],
   "source": [
    "#28. Sum a specific axis\n",
    "a = np.array([[1,1,1,1],[1,1,1,1]])\n",
    "print(a.sum(axis=1))"
   ]
  },
  {
   "cell_type": "code",
   "execution_count": 173,
   "metadata": {},
   "outputs": [
    {
     "name": "stdout",
     "output_type": "stream",
     "text": [
      "[[4]\n",
      " [4]]\n"
     ]
    }
   ],
   "source": [
    "#29. Sum an axis and keep the dimensions\n",
    "a = np.array([[1,1,1,1],[1,1,1,1]])\n",
    "print(a.sum(axis=1,keepdims=True))"
   ]
  },
  {
   "cell_type": "code",
   "execution_count": 174,
   "metadata": {},
   "outputs": [
    {
     "name": "stdout",
     "output_type": "stream",
     "text": [
      "[3 3 3 3]\n"
     ]
    }
   ],
   "source": [
    "#30. Sum a value to each array element\n",
    "a = np.array([1,1,1,1])\n",
    "print(a+2)"
   ]
  },
  {
   "cell_type": "code",
   "execution_count": 175,
   "metadata": {},
   "outputs": [
    {
     "name": "stdout",
     "output_type": "stream",
     "text": [
      "[2 2 2 2]\n"
     ]
    }
   ],
   "source": [
    "#31. Multiply a value to each array element\n",
    "a = np.array([1,1,1,1])\n",
    "print(a*2)"
   ]
  },
  {
   "cell_type": "code",
   "execution_count": 176,
   "metadata": {},
   "outputs": [
    {
     "name": "stdout",
     "output_type": "stream",
     "text": [
      "55\n"
     ]
    }
   ],
   "source": [
    "#32. Find the max number in an array\n",
    "a = np.array([[1,2,3,4],[8,7,55,3]])\n",
    "print(a.max())"
   ]
  },
  {
   "cell_type": "code",
   "execution_count": 178,
   "metadata": {},
   "outputs": [
    {
     "name": "stdout",
     "output_type": "stream",
     "text": [
      "-1\n"
     ]
    }
   ],
   "source": [
    "#33. Find the min number in an array\n",
    "a = np.array([[-1,2,3,4],[8,7,55,3]])\n",
    "print(a.min())"
   ]
  },
  {
   "cell_type": "code",
   "execution_count": 181,
   "metadata": {},
   "outputs": [
    {
     "name": "stdout",
     "output_type": "stream",
     "text": [
      "[-1  2  3  3]\n",
      "[-1  3]\n",
      "[ 8  7 55  4]\n",
      "[ 4 55]\n"
     ]
    }
   ],
   "source": [
    "#34. Min or Max on an axis\n",
    "a = np.array([[-1 ,2 ,3  ,4],\n",
    "              [ 8 ,7 ,55 ,3]])\n",
    "print(a.min(axis=0))\n",
    "print(a.min(axis=1))\n",
    "print(a.max(axis=0))\n",
    "print(a.max(axis=1))"
   ]
  },
  {
   "cell_type": "code",
   "execution_count": 183,
   "metadata": {},
   "outputs": [
    {
     "name": "stdout",
     "output_type": "stream",
     "text": [
      "1\n"
     ]
    }
   ],
   "source": [
    "#35. Slicing matrices, First element of the first row \n",
    "a = np.array([[1,2,3,4],\n",
    "              [5,6,7,8],\n",
    "              [11,22,33,44]])\n",
    "\n",
    "print(a[0,0])"
   ]
  },
  {
   "cell_type": "code",
   "execution_count": 190,
   "metadata": {},
   "outputs": [
    {
     "name": "stdout",
     "output_type": "stream",
     "text": [
      "[[5 6 7 8]]\n"
     ]
    }
   ],
   "source": [
    "#36.Slice the second row\n",
    "print(a[1:2])"
   ]
  },
  {
   "cell_type": "code",
   "execution_count": 191,
   "metadata": {},
   "outputs": [
    {
     "name": "stdout",
     "output_type": "stream",
     "text": [
      "[ 1  5 11]\n"
     ]
    }
   ],
   "source": [
    "#37. Slice first elenent of each row\n",
    "print(a[0:3,0])"
   ]
  },
  {
   "cell_type": "code",
   "execution_count": 212,
   "metadata": {},
   "outputs": [
    {
     "name": "stdout",
     "output_type": "stream",
     "text": [
      "[0.54184025 0.91547787 0.56018811 0.33127799 0.32838834 0.21566033\n",
      " 0.51538869 0.88929582 0.98840687 0.83610617 0.07363846 0.58456128\n",
      " 0.61611168 0.01085356 0.59008017 0.88799232 0.39131445 0.59404022\n",
      " 0.25048227 0.01263337 0.63960488 0.44147713 0.20565108 0.37131038\n",
      " 0.66463531 0.65224248 0.63236928 0.76071696 0.67867512 0.05348455\n",
      " 0.33878156 0.08239528 0.11114619 0.14560834 0.75258225 0.31187506\n",
      " 0.32464713 0.41175423 0.31942159 0.11840581 0.77752409 0.07425956\n",
      " 0.0912467  0.65143148 0.08108152 0.17885572 0.02359984 0.36983029\n",
      " 0.16548214 0.53394962 0.8258373  0.58215646 0.70598014 0.95981474\n",
      " 0.93858295 0.8834686  0.99278658 0.00386152 0.98271079 0.48583759\n",
      " 0.98482664 0.14183816 0.39639007 0.18982165 0.08171478 0.64611016\n",
      " 0.35606603 0.62421971 0.09933424 0.72658746 0.52962486 0.87723364\n",
      " 0.04689999 0.98784976 0.65993839 0.31700811 0.18044452 0.67140531\n",
      " 0.89408813 0.34746556 0.60306226 0.51446374 0.70288766 0.4496529\n",
      " 0.02261395 0.04940376 0.2434413  0.70068645 0.24130714 0.65278426\n",
      " 0.49976025 0.25349502 0.21551159 0.80468572 0.14588735 0.50701193\n",
      " 0.61853992 0.07869875 0.03203651 0.69850894]\n"
     ]
    }
   ],
   "source": [
    "#38. Random number generation\n",
    "a = np.random.rand(100)\n",
    "print(a)"
   ]
  },
  {
   "cell_type": "code",
   "execution_count": 219,
   "metadata": {},
   "outputs": [
    {
     "name": "stdout",
     "output_type": "stream",
     "text": [
      "[ 646698 8200888 2659105 1247136 5257655 3633491 2609034 2075386 1631079\n",
      "  597118]\n"
     ]
    }
   ],
   "source": [
    "#39. Random integer numbers withing a specified range\n",
    "a = np.random.randint(0,10000000,10)\n",
    "print(a)"
   ]
  },
  {
   "cell_type": "code",
   "execution_count": 227,
   "metadata": {},
   "outputs": [
    {
     "name": "stdout",
     "output_type": "stream",
     "text": [
      "[10 12 13 14 15 21 22 23 24 25 85]\n"
     ]
    }
   ],
   "source": [
    "#40. Fetch unique numbers from an array\n",
    "a = np.array([[10,12,12,13,14,15,15,15,15],\n",
    "              [21,21,22,23,24,25,25,25,85]])\n",
    "print(np.unique(a))"
   ]
  },
  {
   "cell_type": "code",
   "execution_count": 228,
   "metadata": {},
   "outputs": [
    {
     "name": "stdout",
     "output_type": "stream",
     "text": [
      "[[10 12 12 13 14 15 15]\n",
      " [21 21 22 23 24 25 85]]\n"
     ]
    }
   ],
   "source": [
    "#41. Fetch unique numbers from an array at a particular axis\n",
    "print(np.unique(a,axis=1))"
   ]
  },
  {
   "cell_type": "code",
   "execution_count": 236,
   "metadata": {},
   "outputs": [
    {
     "name": "stdout",
     "output_type": "stream",
     "text": [
      "Numbers [10 12 13 14 15 21 22 23 24 25 85]\n",
      "Indices [ 0  1  3  4  5  9 11 12 13 14 17]\n"
     ]
    }
   ],
   "source": [
    "#42. Fetch the unique numbers and indecies of the unique elements\n",
    "unique_nums = np.unique(a,return_index=True) #Returns a tuple with numbers and indices\n",
    "print('Numbers',unique_nums[0])\n",
    "print('Indices',unique_nums[1])"
   ]
  },
  {
   "cell_type": "code",
   "execution_count": 246,
   "metadata": {},
   "outputs": [
    {
     "name": "stdout",
     "output_type": "stream",
     "text": [
      "[[1 1]\n",
      " [2 2]\n",
      " [3 3]\n",
      " [4 4]]\n"
     ]
    }
   ],
   "source": [
    "#43. Transpose an array\n",
    "a = np.array([[1,2,3,4],\n",
    "              [1,2,3,4]])\n",
    "print(a.transpose())"
   ]
  },
  {
   "cell_type": "code",
   "execution_count": 249,
   "metadata": {},
   "outputs": [
    {
     "name": "stdout",
     "output_type": "stream",
     "text": [
      "[6 5 4 3 2 1]\n"
     ]
    }
   ],
   "source": [
    "#44. Reverse an array\n",
    "a = np.array([1,2,3,4,5,6])\n",
    "print(np.flip(a))"
   ]
  },
  {
   "cell_type": "code",
   "execution_count": 292,
   "metadata": {},
   "outputs": [
    {
     "name": "stdout",
     "output_type": "stream",
     "text": [
      "[[ 7  8  9 10]\n",
      " [ 1  2  3  4]]\n"
     ]
    }
   ],
   "source": [
    "#45. Reverse a 2D array\n",
    "a = np.array([[1,2,3,4],\n",
    "              [7,8,9,10]])\n",
    "a= np.flip(a,axis=0)\n",
    "print(a)"
   ]
  },
  {
   "cell_type": "code",
   "execution_count": 293,
   "metadata": {},
   "outputs": [
    {
     "name": "stdout",
     "output_type": "stream",
     "text": [
      "[8 2]\n",
      "[2 8]\n",
      "[[ 7  2  9 10]\n",
      " [ 1  8  3  4]]\n"
     ]
    }
   ],
   "source": [
    "#46. Reverse only the second column\n",
    "print(a[:,1])\n",
    "a[:,1] = np.flip(a[:,1])\n",
    "print(a[:,1])\n",
    "print(a)"
   ]
  },
  {
   "cell_type": "code",
   "execution_count": 294,
   "metadata": {},
   "outputs": [
    {
     "name": "stdout",
     "output_type": "stream",
     "text": [
      "[[ 7  2  9 10]\n",
      " [ 4  3  8  1]]\n"
     ]
    }
   ],
   "source": [
    "#47. Flip the second row only\n",
    "a[1,:]= np.flip(a[1,:])\n",
    "print(a)"
   ]
  },
  {
   "cell_type": "code",
   "execution_count": 299,
   "metadata": {},
   "outputs": [
    {
     "name": "stdout",
     "output_type": "stream",
     "text": [
      "[ 1  2  3  4  5  6  7  8  9 10 11 12]\n"
     ]
    }
   ],
   "source": [
    "#48. Flatten a multidimensional array\n",
    "a = np.array([[1,2,3,4],[5,6,7,8],[9,10,11,12]])\n",
    "print(a.flatten())"
   ]
  },
  {
   "cell_type": "code",
   "execution_count": 301,
   "metadata": {},
   "outputs": [
    {
     "name": "stdout",
     "output_type": "stream",
     "text": [
      "[[  1   4   9  16]\n",
      " [ 25  36  49  64]\n",
      " [ 81 100 121 144]]\n"
     ]
    }
   ],
   "source": [
    "#49.Square of an array\n",
    "print(np.square(a))"
   ]
  },
  {
   "cell_type": "code",
   "execution_count": 303,
   "metadata": {},
   "outputs": [
    {
     "name": "stdout",
     "output_type": "stream",
     "text": [
      "[1. 2. 6. 7.]\n"
     ]
    }
   ],
   "source": [
    "#50. Round an array\n",
    "a = np.array([1.1,2.4,5.6,7.10])\n",
    "print(np.round(a))"
   ]
  }
 ],
 "metadata": {
  "kernelspec": {
   "display_name": "Python 3",
   "language": "python",
   "name": "python3"
  },
  "language_info": {
   "codemirror_mode": {
    "name": "ipython",
    "version": 3
   },
   "file_extension": ".py",
   "mimetype": "text/x-python",
   "name": "python",
   "nbconvert_exporter": "python",
   "pygments_lexer": "ipython3",
   "version": "3.7.1"
  }
 },
 "nbformat": 4,
 "nbformat_minor": 2
}
